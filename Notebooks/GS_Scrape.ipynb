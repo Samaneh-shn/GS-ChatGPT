{
 "cells": [
  {
   "cell_type": "markdown",
   "id": "7e1a3853-80fd-475e-972e-1996ed8d5b3f",
   "metadata": {
    "tags": []
   },
   "source": [
    "# 📝 Scraping Google Scholar"
   ]
  },
  {
   "cell_type": "markdown",
   "id": "ab9866d3-4dc8-466c-b8b1-0f8021b5899b",
   "metadata": {
    "tags": []
   },
   "source": [
    "#### I used ScraperAPI which handles proxies, browsers, and CAPTCHAs, so you can get the HTML from any web page with a simple API call!"
   ]
  },
  {
   "cell_type": "code",
   "execution_count": 2,
   "id": "fef77aa8-09a9-493b-bb8a-8ddd65d707e6",
   "metadata": {},
   "outputs": [
    {
     "name": "stdout",
     "output_type": "stream",
     "text": [
      "done\n"
     ]
    }
   ],
   "source": [
    "import requests\n",
    "import csv\n",
    "from bs4 import BeautifulSoup\n",
    "\n",
    "# the API key provided by scraperapi.com\n",
    "my_api_key = 'my_api_key'\n",
    "\n",
    "# specify the search term\n",
    "search_term = 'ChatGPT'\n",
    "\n",
    "# specify the first page for scraping\n",
    "page_num = 0\n",
    "\n",
    "# create a csv file to store the data\n",
    "with open('chatgpt_articles.csv', mode='w', newline='') as file:\n",
    "    writer = csv.writer(file)\n",
    "    writer.writerow(['Title', 'Link', 'Snippet', 'Citations', 'Puplication Information'])\n",
    "\n",
    "    while (page_num < 100):\n",
    "        \n",
    "        # create the URL for the API request\n",
    "        url = f'https://api.scraperapi.com/?api_key={my_api_key}&url=https://scholar.google.com/scholar?start={page_num * 10}&q={search_term}&hl=en&as_sdt=0,5'\n",
    "        \n",
    "        # send a request to the URL and get the response\n",
    "        response = requests.get(url)\n",
    "        \n",
    "        # create a soup object from the response text\n",
    "        soup = BeautifulSoup(response.content, \"lxml\")\n",
    "\n",
    "\n",
    "        # find all the search results on the page\n",
    "        results = soup.find_all('div', {'class': 'gs_ri'})\n",
    "    \n",
    "        if not results:\n",
    "            break\n",
    "            \n",
    "        else:\n",
    "            # iterate through the search results and extract the data\n",
    "            for result in results:\n",
    "                title_elem = result.find('h3', {'class': 'gs_rt'})\n",
    "                if title_elem is not None:\n",
    "                    title = title_elem.text\n",
    "                    link = None  # define link with a default value\n",
    "                    link_elem = title_elem.find('a')\n",
    "                    if link_elem is not None:\n",
    "                        link = link_elem['href']\n",
    "                snippet_elem = result.find('div', {'class': 'gs_rs'})\n",
    "                if snippet_elem is not None:\n",
    "                    snippet = snippet_elem.text\n",
    "                citations_elem = result.find('div', {'class': 'gs_fl'})\n",
    "                if citations_elem is not None:\n",
    "                    citations = citations_elem.text\n",
    "                pub_info_elem = result.find('div', {'class': 'gs_a'})\n",
    "                if pub_info_elem is not None:\n",
    "                    pub_info = pub_info_elem.text\n",
    "                \n",
    "\n",
    "                # write the data to the csv file\n",
    "                writer.writerow([title, link, snippet, citations, pub_info])\n",
    "            \n",
    "        page_num += 1\n",
    "            \n",
    "print(\"done\")\n",
    "\n",
    "\n"
   ]
  },
  {
   "cell_type": "markdown",
   "id": "f55d54f9-0921-4fd8-9977-8298189c8d90",
   "metadata": {
    "tags": []
   },
   "source": [
    "#### In order to avoid break downs or IP blocks, we iterated the code above 10 times, and every time scraped only 10 pages. Finally, we concatenated all csv files."
   ]
  },
  {
   "cell_type": "code",
   "execution_count": 7,
   "id": "dfff2c5d-1c98-4b1e-98a1-c59aa57fcb1a",
   "metadata": {},
   "outputs": [],
   "source": [
    "# merging all the csv files into one\n",
    "import pandas as pd\n",
    "import glob\n",
    "\n",
    "# Get a list of all CSV files in the current directory\n",
    "files = glob.glob('chatgpt_articles*.csv')\n",
    "\n",
    "# Concatenate all CSV files into a single dataframe\n",
    "df = pd.concat([pd.read_csv(f) for f in files])\n",
    "\n",
    "# Write the concatenated dataframe to a CSV file\n",
    "df.to_csv('chatgpt_articles.csv', index=False)\n"
   ]
  }
 ],
 "metadata": {
  "kernelspec": {
   "display_name": "Python 3 (ipykernel)",
   "language": "python",
   "name": "python3"
  },
  "language_info": {
   "codemirror_mode": {
    "name": "ipython",
    "version": 3
   },
   "file_extension": ".py",
   "mimetype": "text/x-python",
   "name": "python",
   "nbconvert_exporter": "python",
   "pygments_lexer": "ipython3",
   "version": "3.9.13"
  }
 },
 "nbformat": 4,
 "nbformat_minor": 5
}
